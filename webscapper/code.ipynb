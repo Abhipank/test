{
 "cells": [
  {
   "cell_type": "markdown",
   "metadata": {},
   "source": [
    "PRICE TRACKER(TRACER)"
   ]
  },
  {
   "cell_type": "markdown",
   "metadata": {},
   "source": [
    "Installing the essential packages"
   ]
  },
  {
   "cell_type": "code",
   "execution_count": 41,
   "metadata": {},
   "outputs": [],
   "source": [
    "#!pip install -q beautifulsoup4\n",
    "#!pip install -q requests\n",
    "##smtplib is built-in library for python\n",
    "##time is built-in for python\n",
    "\n",
    "\n",
    "import bs4\n",
    "import smtplib\n",
    "import time\n",
    "import requests\n",
    "from email.mime.text import MIMEText\n",
    "from email.mime.multipart import MIMEMultipart\n",
    "from time import sleep\n"
   ]
  },
  {
   "cell_type": "markdown",
   "metadata": {},
   "source": [
    "Core"
   ]
  },
  {
   "cell_type": "code",
   "execution_count": 42,
   "metadata": {},
   "outputs": [],
   "source": [
    "#attributes are methods and variables are attributes associated with class\n",
    "class tutptracer:\n",
    "    def __init__(self,url,sender,receiver,pwd):\n",
    "        self.source=url\n",
    "        self.sender=sender\n",
    "        \n",
    "        self.receiver=receiver\n",
    "        self.complete_track=[]\n",
    "        self.pwd=pwd\n",
    "\n",
    "    def check_price(self):\n",
    "        headers={ 'user-agent' : 'Mozilla/5.0 (Windows NT 10.0; Win64; x64) AppleWebKit/537.36 (KHTML, like Gecko) Chrome/120.0.0.0 Safari/537.36'}\n",
    "        string=self.source.split('/')\n",
    "        base_steering=string[0]+'//'+string[2]\n",
    "        base_respone = requests.get(base_steering,headers=headers)\n",
    "        cookies=base_respone.cookies\n",
    "        main_response=requests.get(self.source,headers=headers,cookies=cookies)\n",
    "        soup = bs4.BeautifulSoup(main_response.text,\"html.parser\")\n",
    "        price=soup.find(class_=\"m-enroll\")\n",
    "        topic=soup.find(class_=\"premain\")\n",
    "        ptxt=price.find('p').find('span').get_text()\n",
    "        h1_text = topic.find('h1').get_text()\n",
    "        cost=float(ptxt.split(' ')[1])\n",
    "        self.complete_track.append(cost)\n",
    "        return {h1_text,cost}\n",
    "    \n",
    "    def price_chk(self):\n",
    "        if len(self.complete_track)==1: return \"No compare\"\n",
    "\n",
    "        if self.complete_track[-1] < self.complete_track[-2]: return \"Decrease!\"\n",
    "        else:\n",
    "            if self.complete_track[-1] > self.complete_track[-2]: return \"Increase!\"\n",
    "            else:\n",
    "                return \"nochange\"\n",
    "\n",
    "    def send_email(self,left_mssg,topic,cost):\n",
    "        s= smtplib.SMTP('smtp.gmail.com',587)\n",
    "        s.starttls()\n",
    "        s.login(self.sender,self.pwd)\n",
    "        message=MIMEMultipart()\n",
    "        message['Subject'] = topic.replace('\\n',' ')\n",
    "\n",
    "        # Append a disclaimer with decreased font size to the body of the email\n",
    "        disclaimer = '<br><br><br><br> Discaimer: This footer text is to convey that this mail is sent by one of users of tute-dude.So,do not mark it as spam'\n",
    "        body=\"\"\n",
    "\n",
    "        \n",
    "        if left_mssg=='No compare': body = '<div style=\"text-align: left; font-size: large; margin: auto;\"><span style=\"font-weight: bold; font-style: italic;\">BAM-BAM-BAM</span></div><br>' + topic.replace('\\n', ' ') + ' just @ INR ' + str(cost)\n",
    "        else:\n",
    "            if left_mssg=='Decrease!': body = '<div style=\"text-align: left; font-size: large; margin: auto;\"><span style=\"font-weight: bold; font-style: italic;\">PRICE FALL DOWN</span></div><br>' + topic.replace('\\n', ' ') + ' just @ INR ' + str(cost)\n",
    "            if left_mssg==\"Increase!\": body = '<div style=\"text-align: left; font-size: large; margin: auto;\"><span style=\"font-weight: bold; font-style: italic;\">PRICE INCREASE</span></div><br>' + topic.replace('\\n', ' ') + ' just @ INR ' + str(cost)\n",
    "            if left_mssg==\"nochange\": body = '<div style=\"text-align: left; font-size: large; margin: auto;\"><span style=\"font-weight: bold; font-style: italic;\">NO CHANGE IN PRICE</span></div><br>' + topic.replace('\\n', ' ') + ' just @ INR ' + str(cost)\n",
    "        body_with_disclaimer = f'{body}{disclaimer}'\n",
    "        message.attach(MIMEText(body_with_disclaimer, 'html'))\n",
    "        s.sendmail(self.sender,self.receiver,message.as_string())\n",
    "        s.quit()\n",
    "\n",
    "password=\"\"\n",
    "pt1=tutptracer('https://tutedude.com/category/datastructure',\"\",\"\",password)\n",
    "\n",
    "\n",
    "\n"
   ]
  },
  {
   "cell_type": "markdown",
   "metadata": {},
   "source": [
    "Infinite Loop"
   ]
  },
  {
   "cell_type": "code",
   "execution_count": null,
   "metadata": {},
   "outputs": [],
   "source": [
    "t=2\n",
    "while t>0:\n",
    "    topic,cost=pt1.check_price()\n",
    "    left_mssg=pt1.price_chk()\n",
    "    pt1.send_email(left_mssg,topic,cost)\n",
    "    t=t-1\n",
    "    sleep(60)"
   ]
  },
  {
   "cell_type": "markdown",
   "metadata": {},
   "source": [
    "UNSUCCESSFUL EFFORTS"
   ]
  },
  {
   "cell_type": "code",
   "execution_count": 3,
   "metadata": {},
   "outputs": [],
   "source": [
    "# import urllib.request\n",
    "\n",
    "# headers = {'User-Agent': 'Mozilla/5.0 (Windows NT 10.0; Win64; x64) AppleWebKit/537.36 (KHTML, like Gecko) Chrome/91.0.4472.124 Safari/537.36'}\n",
    "# url='https://www.flipkart.com/travel/flights/search?trips=HYD-ATQ-01022024&travellers=1-0-0&class=e&tripType=ONE_WAY&isIntl=false&source=Search%20Form'\n",
    "# request = urllib.request.Request(url,headers=headers)\n",
    "# html_page = urllib.request.urlopen(request).read()\n",
    "# print(html_page)\n",
    "# print(certifi.where())\n",
    "\n",
    "# import ssl\n",
    "# import urllib.request\n",
    "\n",
    "# # Specify the path to the CA bundle file\n",
    "# cafile = r'C:\\Users\\HP\\AppData\\Local\\Packages\\PythonSoftwareFoundation.Python.3.10_qbz5n2kfra8p0\\LocalCache\\local-packages\\Python310\\site-packages\\certifi\\cacert.pem'\n",
    "\n",
    "# # Create an SSL context and set the CA file\n",
    "# context = ssl.create_default_context(cafile=cafile)\n",
    "# headers = {'User-Agent': 'Mozilla/5.0 (Windows NT 10.0; Win64; x64) AppleWebKit/537.36 (KHTML, like Gecko) Chrome/91.0.4472.124 Safari/537.36'}\n",
    "\n",
    "# # Use the SSL context in your request\n",
    "# url = 'https://www.flipkart.com/travel/flights/search?trips=HYD-ATQ-01022024&travellers=1-0-0&class=e&tripType=ONE_WAY&isIntl=false&source=Search%20Form'\n",
    "# request = urllib.request.Request(url, headers=headers)\n",
    "# response = requests.get(url)\n",
    "# html = response.read()\n",
    "\n"
   ]
  },
  {
   "cell_type": "markdown",
   "metadata": {},
   "source": [
    "SOURCE-https://chat.openai.com/share/6c93cd14-7d2e-4cf2-a8e4-05b1156ba29d, https://www.youtube.com/watch?v=qukjS96clB8, https://www.youtube.com/watch?v=6ANKk9NQ3GI , https://chat.openai.com/share/a94de44d-b2e6-4ed9-9f48-06afb40bdac1 ,bits of comments below videos"
   ]
  }
 ],
 "metadata": {
  "kernelspec": {
   "display_name": "Python 3",
   "language": "python",
   "name": "python3"
  },
  "language_info": {
   "codemirror_mode": {
    "name": "ipython",
    "version": 3
   },
   "file_extension": ".py",
   "mimetype": "text/x-python",
   "name": "python",
   "nbconvert_exporter": "python",
   "pygments_lexer": "ipython3",
   "version": "3.10.11"
  }
 },
 "nbformat": 4,
 "nbformat_minor": 2
}
