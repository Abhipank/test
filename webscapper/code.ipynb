{
 "cells": [
  {
   "cell_type": "markdown",
   "metadata": {},
   "source": [
    "PRICE TRACKER(TRACER)"
   ]
  },
  {
   "cell_type": "markdown",
   "metadata": {},
   "source": [
    "Installing the essential packages"
   ]
  },
  {
   "cell_type": "code",
   "execution_count": 172,
   "metadata": {},
   "outputs": [],
   "source": [
    "#!pip install -q beautifulsoup4\n",
    "#!pip install -q requests\n",
    "##smtplib is built-in library for python\n",
    "##time is built-in for python\n",
    "\n",
    "\n",
    "import bs4\n",
    "import smtplib\n",
    "import time\n",
    "import requests\n",
    "import lxml\n",
    "\n"
   ]
  },
  {
   "cell_type": "markdown",
   "metadata": {},
   "source": [
    "Core"
   ]
  },
  {
   "cell_type": "code",
   "execution_count": 181,
   "metadata": {},
   "outputs": [],
   "source": [
    "#attributes are methods and variables are attributes associated with class\n",
    "class amzonptracer:\n",
    "    def __init__(self,url,sender,receiver):\n",
    "        self.source=url\n",
    "        self.sender=sender\n",
    "        \n",
    "        self.receiver=receiver\n",
    "        self.complete_track=[]\n",
    "\n",
    "    def check_price(self):\n",
    "        html_page=requests.get(self.source) #collects all the page informationm at the url is a string\n",
    "\n",
    "        soup = bs4.BeautifulSoup(html_page.text,\"html.parser\")\n",
    "        \n",
    "        print(soup)\n",
    "\n",
    "pt1=amzonptracer('https://www.amazon.in/Google-Pixel-12GB-128GB-Hazel/dp/B0CHQV8DBX/ref=sr_1_2?keywords=google+pixel&qid=1702371375&s=electronics&sr=1-2',\"pp\",\"pk83413052gmail.com\")"
   ]
  },
  {
   "cell_type": "code",
   "execution_count": 182,
   "metadata": {},
   "outputs": [
    {
     "name": "stdout",
     "output_type": "stream",
     "text": [
      "<!DOCTYPE html>\n",
      "\n",
      "<!--[if lt IE 7]> <html lang=\"en-us\" class=\"a-no-js a-lt-ie9 a-lt-ie8 a-lt-ie7\"> <![endif]-->\n",
      "<!--[if IE 7]>    <html lang=\"en-us\" class=\"a-no-js a-lt-ie9 a-lt-ie8\"> <![endif]-->\n",
      "<!--[if IE 8]>    <html lang=\"en-us\" class=\"a-no-js a-lt-ie9\"> <![endif]-->\n",
      "<!--[if gt IE 8]><!-->\n",
      "<html class=\"a-no-js\" lang=\"en-us\"><!--<![endif]--><head>\n",
      "<meta content=\"text/html; charset=utf-8\" http-equiv=\"content-type\"/>\n",
      "<meta charset=\"utf-8\"/>\n",
      "<meta content=\"IE=edge,chrome=1\" http-equiv=\"X-UA-Compatible\"/>\n",
      "<title dir=\"ltr\">Amazon.in</title>\n",
      "<meta content=\"width=device-width\" name=\"viewport\"/>\n",
      "<link href=\"https://images-na.ssl-images-amazon.com/images/G/01/AUIClients/AmazonUI-3c913031596ca78a3768f4e934b1cc02ce238101.secure.min._V1_.css\" rel=\"stylesheet\"/>\n",
      "<script>\n",
      "\n",
      "if (true === true) {\n",
      "    var ue_t0 = (+ new Date()),\n",
      "        ue_csm = window,\n",
      "        ue = { t0: ue_t0, d: function() { return (+new Date() - ue_t0); } },\n",
      "        ue_furl = \"fls-eu.amazon.in\",\n",
      "        ue_mid = \"A21TJRUUN4KGV\",\n",
      "        ue_sid = (document.cookie.match(/session-id=([0-9-]+)/) || [])[1],\n",
      "        ue_sn = \"opfcaptcha.amazon.in\",\n",
      "        ue_id = 'J9GV0XGQCYEFB6ZY1BQR';\n",
      "}\n",
      "</script>\n",
      "</head>\n",
      "<body>\n",
      "<!--\n",
      "        To discuss automated access to Amazon data please contact api-services-support@amazon.com.\n",
      "        For information about migrating to our APIs refer to our Marketplace APIs at https://developer.amazonservices.in/ref=rm_c_sv, or our Product Advertising API at https://affiliate-program.amazon.in/gp/advertising/api/detail/main.html/ref=rm_c_ac for advertising use cases.\n",
      "-->\n",
      "<!--\n",
      "Correios.DoNotSend\n",
      "-->\n",
      "<div class=\"a-container a-padding-double-large\" style=\"min-width:350px;padding:44px 0 !important\">\n",
      "<div class=\"a-row a-spacing-double-large\" style=\"width: 350px; margin: 0 auto\">\n",
      "<div class=\"a-row a-spacing-medium a-text-center\"><i class=\"a-icon a-logo\"></i></div>\n",
      "<div class=\"a-box a-alert a-alert-info a-spacing-base\">\n",
      "<div class=\"a-box-inner\">\n",
      "<i class=\"a-icon a-icon-alert\"></i>\n",
      "<h4>Enter the characters you see below</h4>\n",
      "<p class=\"a-last\">Sorry, we just need to make sure you're not a robot. For best results, please make sure your browser is accepting cookies.</p>\n",
      "</div>\n",
      "</div>\n",
      "<div class=\"a-section\">\n",
      "<div class=\"a-box a-color-offset-background\">\n",
      "<div class=\"a-box-inner a-padding-extra-large\">\n",
      "<form action=\"/errors/validateCaptcha\" method=\"get\" name=\"\">\n",
      "<input name=\"amzn\" type=\"hidden\" value=\"KBuu95+BFzG8NP29cZ17hg==\"/><input name=\"amzn-r\" type=\"hidden\" value=\"/Google-Pixel-12GB-128GB-Hazel/dp/B0CHQV8DBX/ref=sr_1_2?keywords=google+pixel&amp;qid=1702371375&amp;s=electronics&amp;sr=1-2\"/>\n",
      "<div class=\"a-row a-spacing-large\">\n",
      "<div class=\"a-box\">\n",
      "<div class=\"a-box-inner\">\n",
      "<h4>Type the characters you see in this image:</h4>\n",
      "<!-- For automated access to price change or offer listing change events,\n",
      "                                             please refer to the MWS Subscription API:\n",
      "                                             https://developer.amazonservices.in/gp/mws/api.html/276-5247872-0590350?ie=UTF8&section=subscriptions&group=subscriptions&version=latest\n",
      "                                        -->\n",
      "<div class=\"a-row a-text-center\">\n",
      "<img src=\"https://images-na.ssl-images-amazon.com/captcha/xjgkhgck/Captcha_ptpptmqmul.jpg\"/>\n",
      "</div>\n",
      "<div class=\"a-row a-spacing-base\">\n",
      "<div class=\"a-row\">\n",
      "<div class=\"a-column a-span6\">\n",
      "</div>\n",
      "<div class=\"a-column a-span6 a-span-last a-text-right\">\n",
      "<a onclick=\"window.location.reload()\">Try different image</a>\n",
      "</div>\n",
      "</div>\n",
      "<input autocapitalize=\"off\" autocomplete=\"off\" autocorrect=\"off\" class=\"a-span12\" id=\"captchacharacters\" name=\"field-keywords\" placeholder=\"Type characters\" spellcheck=\"false\" type=\"text\"/>\n",
      "</div>\n",
      "</div>\n",
      "</div>\n",
      "</div>\n",
      "<div class=\"a-section a-spacing-extra-large\">\n",
      "<div class=\"a-row\">\n",
      "<span class=\"a-button a-button-primary a-span12\">\n",
      "<span class=\"a-button-inner\">\n",
      "<button class=\"a-button-text\" type=\"submit\">Continue shopping</button>\n",
      "</span>\n",
      "</span>\n",
      "</div>\n",
      "</div>\n",
      "</form>\n",
      "</div>\n",
      "</div>\n",
      "</div>\n",
      "</div>\n",
      "<div class=\"a-divider a-divider-section\"><div class=\"a-divider-inner\"></div></div>\n",
      "<div class=\"a-text-center a-spacing-small a-size-mini\">\n",
      "<a href=\"https://www.amazon.in/gp/help/customer/display.html/ref=footer_cou?ie=UTF8&amp;nodeId=200545940\">Conditions of Use &amp; Sale</a>\n",
      "<span class=\"a-letter-space\"></span>\n",
      "<span class=\"a-letter-space\"></span>\n",
      "<span class=\"a-letter-space\"></span>\n",
      "<span class=\"a-letter-space\"></span>\n",
      "<a href=\"https://www.amazon.in/gp/help/customer/display.html/ref=footer_privacy?ie=UTF8&amp;nodeId=200534380\">Privacy Notice</a>\n",
      "</div>\n",
      "<div class=\"a-text-center a-size-mini a-color-secondary\">\n",
      "          © 1996-2015, Amazon.com, Inc. or its affiliates\n",
      "          <script>\n",
      "           if (true === true) {\n",
      "             document.write('<img src=\"https://fls-eu.amaz'+'on.in/'+'1/oc-csi/1/OP/requestId=J9GV0XGQCYEFB6ZY1BQR&js=1\" />');\n",
      "           };\n",
      "          </script>\n",
      "<noscript>\n",
      "<img src=\"https://fls-eu.amazon.in/1/oc-csi/1/OP/requestId=J9GV0XGQCYEFB6ZY1BQR&amp;js=0\">\n",
      "</img></noscript>\n",
      "</div>\n",
      "</div>\n",
      "<script>\n",
      "    if (true === true) {\n",
      "        var head = document.getElementsByTagName('head')[0],\n",
      "            prefix = \"https://images-eu.ssl-images-amazon.com/images/G/01/csminstrumentation/\",\n",
      "            elem = document.createElement(\"script\");\n",
      "        elem.src = prefix + \"csm-captcha-instrumentation.min.js\";\n",
      "        head.appendChild(elem);\n",
      "\n",
      "        elem = document.createElement(\"script\");\n",
      "        elem.src = prefix + \"rd-script-6d68177fa6061598e9509dc4b5bdd08d.js\";\n",
      "        head.appendChild(elem);\n",
      "    }\n",
      "    </script>\n",
      "</body></html>\n",
      "\n"
     ]
    }
   ],
   "source": [
    "pt1.check_price()\n"
   ]
  },
  {
   "cell_type": "code",
   "execution_count": 56,
   "metadata": {},
   "outputs": [
    {
     "name": "stdout",
     "output_type": "stream",
     "text": [
      "C:\\Users\\HP\\AppData\\Local\\Packages\\PythonSoftwareFoundation.Python.3.10_qbz5n2kfra8p0\\LocalCache\\local-packages\\Python310\\site-packages\\certifi\\cacert.pem\n"
     ]
    }
   ],
   "source": [
    "# import urllib.request\n",
    "\n",
    "# headers = {'User-Agent': 'Mozilla/5.0 (Windows NT 10.0; Win64; x64) AppleWebKit/537.36 (KHTML, like Gecko) Chrome/91.0.4472.124 Safari/537.36'}\n",
    "# url='https://www.flipkart.com/travel/flights/search?trips=HYD-ATQ-01022024&travellers=1-0-0&class=e&tripType=ONE_WAY&isIntl=false&source=Search%20Form'\n",
    "# request = urllib.request.Request(url,headers=headers)\n",
    "# html_page = urllib.request.urlopen(request).read()\n",
    "# print(html_page)\n",
    "print(certifi.where())\n"
   ]
  },
  {
   "cell_type": "code",
   "execution_count": 71,
   "metadata": {},
   "outputs": [
    {
     "ename": "AttributeError",
     "evalue": "'Response' object has no attribute 'read'",
     "output_type": "error",
     "traceback": [
      "\u001b[1;31m---------------------------------------------------------------------------\u001b[0m",
      "\u001b[1;31mAttributeError\u001b[0m                            Traceback (most recent call last)",
      "Cell \u001b[1;32mIn[71], line 15\u001b[0m\n\u001b[0;32m     13\u001b[0m request \u001b[38;5;241m=\u001b[39m urllib\u001b[38;5;241m.\u001b[39mrequest\u001b[38;5;241m.\u001b[39mRequest(url, headers\u001b[38;5;241m=\u001b[39mheaders)\n\u001b[0;32m     14\u001b[0m response \u001b[38;5;241m=\u001b[39m requests\u001b[38;5;241m.\u001b[39mget(url)\n\u001b[1;32m---> 15\u001b[0m html \u001b[38;5;241m=\u001b[39m \u001b[43mresponse\u001b[49m\u001b[38;5;241;43m.\u001b[39;49m\u001b[43mread\u001b[49m()\n",
      "\u001b[1;31mAttributeError\u001b[0m: 'Response' object has no attribute 'read'"
     ]
    }
   ],
   "source": [
    "import ssl\n",
    "import urllib.request\n",
    "\n",
    "# Specify the path to the CA bundle file\n",
    "cafile = r'C:\\Users\\HP\\AppData\\Local\\Packages\\PythonSoftwareFoundation.Python.3.10_qbz5n2kfra8p0\\LocalCache\\local-packages\\Python310\\site-packages\\certifi\\cacert.pem'\n",
    "\n",
    "# Create an SSL context and set the CA file\n",
    "context = ssl.create_default_context(cafile=cafile)\n",
    "headers = {'User-Agent': 'Mozilla/5.0 (Windows NT 10.0; Win64; x64) AppleWebKit/537.36 (KHTML, like Gecko) Chrome/91.0.4472.124 Safari/537.36'}\n",
    "\n",
    "# Use the SSL context in your request\n",
    "url = 'https://www.flipkart.com/travel/flights/search?trips=HYD-ATQ-01022024&travellers=1-0-0&class=e&tripType=ONE_WAY&isIntl=false&source=Search%20Form'\n",
    "request = urllib.request.Request(url, headers=headers)\n",
    "response = requests.get(url)\n",
    "html = response.read()\n"
   ]
  },
  {
   "cell_type": "markdown",
   "metadata": {},
   "source": [
    "SOURCE-https://chat.openai.com/c/67872b7b-8249-43cf-ae02-e2c3fb1abcb0"
   ]
  }
 ],
 "metadata": {
  "kernelspec": {
   "display_name": "Python 3",
   "language": "python",
   "name": "python3"
  },
  "language_info": {
   "codemirror_mode": {
    "name": "ipython",
    "version": 3
   },
   "file_extension": ".py",
   "mimetype": "text/x-python",
   "name": "python",
   "nbconvert_exporter": "python",
   "pygments_lexer": "ipython3",
   "version": "3.10.11"
  }
 },
 "nbformat": 4,
 "nbformat_minor": 2
}
